{
  "nbformat": 4,
  "nbformat_minor": 0,
  "metadata": {
    "colab": {
      "name": "Luck in New World Explained.ipynb",
      "provenance": [],
      "collapsed_sections": [
        "hB4YW6dUtMWu",
        "aBgFdZQttbYb",
        "eiTj8pdoNEt6",
        "GWQtpD2YVsUU",
        "Zfbd0VqaR7A8"
      ],
      "include_colab_link": true
    },
    "kernelspec": {
      "name": "python3",
      "display_name": "Python 3"
    },
    "language_info": {
      "name": "python"
    }
  },
  "cells": [
    {
      "cell_type": "markdown",
      "metadata": {
        "id": "view-in-github",
        "colab_type": "text"
      },
      "source": [
        "<a href=\"https://colab.research.google.com/github/ViniciusChrisosthemos/NewWorld/blob/main/Luck_in_New_World_Explained.ipynb\" target=\"_parent\"><img src=\"https://colab.research.google.com/assets/colab-badge.svg\" alt=\"Open In Colab\"/></a>"
      ]
    },
    {
      "cell_type": "markdown",
      "metadata": {
        "id": "gQ2pVjoL1xoD"
      },
      "source": [
        "# Luck in New World Explained\n",
        "## Author: [Tanek17](https://twitch.tv/Tanek17)\n",
        "\n",
        "### Introduction\n",
        "Hi all, in this infographic and document we will:\n",
        "1. Learn how gathering luck works in New World (crafting and refining are similar but differ in certain aspects) and \n",
        "2. Use that knowledge to figure out how much effort it takes at different levels of luck gear to craft an Artifact weapon. \n",
        "\n",
        "Keep in mind all of the formulas in this document are derived from datamined files, so subject to change (or to my mistakes!) Please let me know if you think I'm wrong about something, would love to find the right answer!\n",
        "\n",
        "### Acknowledgements\n",
        "Thanks to my stream community, in particular Bamoo and Reiker, for chatting and bouncing ideas around with. \n",
        "\n",
        "Datasheet files were generously provided to me by Reddit user u/Kattoor. \n",
        "\n",
        "And thanks to Xyo (and others in Discord) at [nwdb.info](https://www.nwdb.info) and Mala Zedik at [NewWorldPacifist.com](https://www.newworldpacifist.com/) for answering so many questions.\n"
      ]
    },
    {
      "cell_type": "markdown",
      "metadata": {
        "id": "hB4YW6dUtMWu"
      },
      "source": [
        "## Luck 101\n"
      ]
    },
    {
      "cell_type": "markdown",
      "metadata": {
        "id": "qRzbPctiJ6Bo"
      },
      "source": [
        "\n",
        "### LootTable Rolls and Luck Points\n",
        "\n",
        "Whenever you loot something in New World, such as mining an ore vein, looting a chest, or looting a monster corpse, a corresponding LootTable is accessed. When this happens, in most cases a random number between 0 and 100,000 is generated. I refer to this as \"the roll\" here, and it is the primary way loot is decided.\n",
        "\n",
        "Your current Luck Points are added to this, which come from a variety of sources including food, trophies, tool, armor, and amulet perks, and overall crafting skill. 1% of luck is the equivalent of 100 luck points. See Reference 1 in the accompanying Colab notebook for explaination and supporting evidence.\n",
        "\n",
        "### Types of Loot Tables\n",
        "\n",
        "#### AND Tables\n",
        "The first and simplest type of loot table is the AND. In these tables, you roll a number, ROLL, and add your LUCK, to get the RESULT=ROLL+LUCK.\n",
        "\n",
        "Any item in the table with a \"Probability\" lower than your RESULT, you either receive if it's an item, or roll on the relevant loot table of if it is a LootTable([LT]) item. The quantity of an item is rolled uniformly from the quantity range, so for CON/STR Perk you have equal chance to get 0 of them as you do of getting 1, even if you rolled high enough on the table.\n",
        "\n",
        "#### Example: Small Iron Vein\n",
        "\n",
        "The loot table entry for a Small Iron Vein looks something like this:\n",
        "\n",
        "```\n",
        " PropertyType   | AND/OR |   Item1  |     Item2    |  Item3       | Item4 \n",
        " IronVein       |  AND   | Iron Ore | CON/STR Perk | [LT] T1 Gems | [LT] Rare Resources\n",
        " Quantity       |   -    |  11-17   |      0-1     |   1-2        |   1  \n",
        " Probabilities  |   -    |    0     |     92000    |  97000       | 101000\n",
        "\n",
        "```\n",
        "\n",
        "So if you ROLL a 93,000 and your current LUCK is 5000, your RESULT would be 98,000 and you would receive between 11-17 Iron Ore, 0-1 CON/STR Perk items, and 1-2 T1 Gems.\n",
        "\n",
        "#### OR Tables\n",
        "\n",
        "OR tables return precisely one item from them. If the Iron Ore table above had instead been an OR table and your result was 98,000 as before, instead of receiving all of those items you would only receive the 1-2 T1 Gems.\n",
        "\n",
        "#### Example: T1 Gems\n",
        "In the above example, you would trigger a rol on the T1 Gems Loot Table, which is an OR table.\n",
        "It looks something like this:\n",
        "\n",
        "```\n",
        " PropertyType   | AND/OR |   Item1  |     Item2    |     Item3     | ... \n",
        " T1 Gems        |   OR    | Topaz T1 | Amythest T1 | Aquamarine T1 | ...\n",
        " Quantity       |   -     |    1     |      1      |       1       | ...\n",
        " Probabilities  |   -     |    0     |      0      |       0       | ...\n",
        "\n",
        "```\n",
        "\n",
        "Since there are 15 gem types, and they all have equal probabilities of \"0\" here, you have a 1/15 chance to get any of the gems on this table, and will receive precisely 1 gem for each roll on the table.\n",
        "\n",
        "### Exceptions\n",
        "As with all things in life, there are exceptions to the above. Some LootTables have Conditions like Named or Level which affect the roll process. \n",
        "\n",
        "#### LuckSafe \n",
        "There is also another condition called \"LuckSafe\", which when true removes any Luck from the calculation so that it is just a straight roll. Importantly, Elite Named Mobs and Elite Chests both have LuckSafe set to True on their primary tables so are apparently unaffected by luck boosting through gems and the gear. \n",
        "\n"
      ]
    },
    {
      "cell_type": "markdown",
      "metadata": {
        "id": "aBgFdZQttbYb"
      },
      "source": [
        "## Example: Voidbringer's Rapier"
      ]
    },
    {
      "cell_type": "markdown",
      "metadata": {
        "id": "hCaMfiEYtSxp"
      },
      "source": [
        "\n",
        "### Recipe: Voidbringer's Rapier"
      ]
    },
    {
      "cell_type": "markdown",
      "metadata": {
        "id": "Fx7uYfD13Hr8"
      },
      "source": [
        "\n",
        "\n",
        "\n",
        "### Ingredients\n",
        "* x14 Asmodeum\n",
        " * x14 Tolvium\n",
        " * x14 Cinnabar\n",
        "\n",
        "* x8 Runic Leather\n",
        " * x8 Scarhide\n",
        " * x8 Smolderhide\n",
        " \n",
        "* x3 Glittering Ebony\n",
        " * x6 Wildwood\n",
        " * x3 Barbvine\n",
        "\n",
        "* x1 Etched Handguard\n",
        "\n",
        "* x1 Serpentine Handguard (ARTIFACT)\n",
        "\n",
        "* x4 Cinnabar\n",
        "\n",
        "* x2 Smolderhide\n",
        "\n",
        "### Totals\n",
        "= 18 cinnabar + 14 tolvium => 32 legendary ore drops in total\n",
        "\n",
        "= 10 smolderhide + 8 scarhide => 18 legendary leathers\n",
        "\n",
        "= 6 wildwood + 3 barbvine => 9 legendary woods\n",
        "\n",
        "**Note:** In theory it's slightly more complicated than just \"9 wood\" here because 9 wood would only give us 4.5 wildwood on average, but if we went to 12 we'd have 3 extra barbvine. So neither strategy is perfect for computing an \"average gathering count\".\n"
      ]
    },
    {
      "cell_type": "markdown",
      "metadata": {
        "id": "nPEWXWdk3Idp"
      },
      "source": [
        "### Luck Buffs / Calculations / Sources of Luck\n",
        "\n",
        "Data taken from nwdb.info for luck values of tools / gear & the above table for gathering drop chances.\n",
        "\n",
        "\n",
        "#### Fresh 60 Luck\n",
        "Tool: 800 luck T5 basic Ori.\n",
        "\n",
        "Food: 1900 luck T4\n",
        "\n",
        "Trophy: 500 * 2, luck T1 trophy in two houses.\n",
        "\n",
        "Armor: 400 luck * 5 = 2000 luck\n",
        "\n",
        "Amulet: 850 luck \n",
        "\n",
        "Total Luck: 8550 luck\n",
        "\n",
        "#### Perfect Luck\n",
        "\n",
        "Tool: 930 luck GS 600\n",
        "\n",
        "Food: 2000 luck T4\n",
        "\n",
        "Trophy: 1500 * 3, luck T3 trophy in two houses.\n",
        " \n",
        "Armor: 500 luck * 5 = 2500 luck GS 600\n",
        "\n",
        "Amulet: 955 luck GS 600\n",
        "\n",
        "Max Level Gathering : 2000\n",
        "\n",
        "Total Luck: 12885 luck\n"
      ]
    },
    {
      "cell_type": "markdown",
      "metadata": {
        "id": "ALNlF-0R3IkN"
      },
      "source": [
        "### Artifact Drop Rate"
      ]
    },
    {
      "cell_type": "markdown",
      "metadata": {
        "id": "bAbSkzDM8bsO"
      },
      "source": [
        "Artifacts can only drop from Named Elite Creatures (I'm not personally sure which creatures are capable of dropping them, nor or which creatures drop which Artifact. See nwdb.info for more details regarding these in particular.)\n",
        "\n",
        "### Probability of an Artifact drop from a Named Elite Creature\n",
        "\n",
        "```\n",
        "     \n",
        "LootTableID\tMaxRoll\tAND/OR\tConditions\tItem1\tItem2\tItem3\tItem4\n",
        "1757\tCreatureLootNamedLootResourceOdds1\t0\tOR\tNamed\t[LBID]RecoveryItems\t[LBID]SpecialCreatureResourcesT1\t[LBID]Artifacts\t[LTID]AzothRoll\n",
        "1758\tCreatureLootNamedLootResourceOdds1_Qty\t0\tNaN\tNaN\t1\t2-3\t1\t1\n",
        "1759\tCreatureLootNamedLootResourceOdds1_Probs\t100000\tNaN\tNaN\t0\t70000\t91000\t96500\n",
        "```\n",
        "We can see that 'Artifacts' has a 91000 luck and the next item is 96500, so there is a range of 5500 only. Since this table is LuckSafe, we don't have to factor in any luck. Finally, the table is OR, so only one item from each loot range will be given, thus we know **the chance to get an Artifact here is 5.5%.**\n",
        "\n",
        "Taking that, we know it will take 1 / (0.055 / 15) = **18.2 monster kills on average to obtain a single Artifact**. Whether this is the one you're looking for specifically or one of the 15 possible Artifacts depends on the Named condition and whether they all have a possibility. \n",
        "\n",
        "If all Elite Named mobs can drop any of the Artifacts, you'll need to kill on average 18.2 * 15 = **273 of them to get the Artifact you're looking for.**\n",
        "\n",
        "\n",
        "### Other facts\n",
        "#### What does LuckSafe=True do?\n",
        "It means global luck doesn't affect the roll. So for sure, only ever a 5.5% chance of getting the Artifact off the Named mob.\n",
        "\n",
        "#### Elite Chests\n",
        "Elite Chests are LuckSafe as well, meaning luck stacking won't do you any good. (So far as I can tell, and this does not apply to lower tier chests and monsters which are affected by luck chance.)\n",
        "\n",
        "#### Named Condition\n",
        "I'm not entirely sure how the \"Named\" Condition works, but can only assume that only certain monsters will drop 'SerpentineHandguardT1' while other monsters will only drop 'ColdForgedBucklesT1' for instance."
      ]
    },
    {
      "cell_type": "markdown",
      "metadata": {
        "id": "eiTj8pdoNEt6"
      },
      "source": [
        "## Code for resource rates and probabilities"
      ]
    },
    {
      "cell_type": "code",
      "metadata": {
        "colab": {
          "base_uri": "https://localhost:8080/"
        },
        "id": "gLUa8OYpMifl",
        "outputId": "6a4daa69-bd8e-4378-aa6e-bb45c4751606"
      },
      "source": [
        "%matplotlib inline\n",
        "\n",
        "import matplotlib\n",
        "import numpy as np\n",
        "import matplotlib.pyplot as plt\n",
        "\n",
        "perfectLuck = 930 + 2000 + (1500 * 3) + (500 * 5)  + 955 + 2000\n",
        "freshLuck = 800+1900+(2*500)+(400*5) + 850 + 2000\n",
        "print(perfectLuck, freshLuck)\n",
        "\"\"\"\n",
        "reiker (a level 60 player during the first beta) said he was getting roughly 1 faeiron per minute when farming endgame with roughly this gear\n",
        "He said he was getting roughly ~20 fae iron during a ~20 minute farming route with all 5 pieces of gear and a luck tool and trophy, but no food and ~150+ mining skill.\n",
        "His route had somewhere between 50 and 80 veins in it, the maps aren't great with multiple nodes near each other so not entirely sure. Also some may not have been spawned always.\n",
        "\"\"\"\n",
        "reikerLuck = 2400 + 500 + 500 + 2000\n",
        "\n",
        "oreWoodRoll = 101800\n",
        "leatherRoll = 101500\n",
        "\n",
        "\n",
        "\"\"\"\n",
        "{\n",
        "    type: (rollNeeded, minQuantity, maxQuantity)\n",
        "}\n",
        "\"\"\"\n",
        "rollTargets = {\n",
        "    'voidOre': ([101800, 100001], 1, 1, 'Orichalcum veins'),\n",
        "    'ore': ([101800], 3, 8 ,\"Orichalcum veins\"),\n",
        "    'wood': ([101800], 3, 8, \"Ironwood trees\"),\n",
        "    'leather': ([101500], 3, 8, \"Level 60 animals\"),\n",
        "    'cloth': ([101800], 3, 8, \"plants\"), # Blisterweave & Scalecloth,\n",
        "    'faeiron': ([101000], 3, 8, 'Iron veins'),\n",
        "    'voidmetal': ([101000, 101400], 3, 8, 'Iron veins'),\n",
        "    'artifacts': ([94500], 1, 1, 'Named Elite Monsters') # for OR table rolls, just take the range and subtract it from 100k for simplicity, no luck.\n",
        "}\n",
        "\n",
        "faeIronResources = {\n",
        "    'faeiron': 1\n",
        "}\n",
        "\n",
        "voidmetalResources = {\n",
        "    'voidmetal': 1\n",
        "}\n",
        "\n",
        "voidOreResources = {\n",
        "    'voidOre': 1,\n",
        "}\n",
        "\n",
        "rapierResources = {\n",
        "    'ore': 32,\n",
        "    'wood': 9,\n",
        "    'leather': 18,\n",
        "    'artifacts': 1,\n",
        "}\n",
        "\n",
        "def computeNumberResources(luck, resources, likelihoods, verbose=True):\n",
        "    for (key, resourceNeeded) in resources.items():\n",
        "\n",
        "        if not (key in likelihoods):\n",
        "            likelihoods[key] = {}\n",
        "        rollTarget = rollTargets[key]\n",
        "        prob = 1\n",
        "        for p in rollTarget[0]:\n",
        "            print(\"{} have a luck target of {} to produce {}.\".format(rollTarget[3],p, key )) # {:.2f}\n",
        "            if key == 'artifacts':\n",
        "                x = 1 - (p)/ 100000\n",
        "            else:\n",
        "                x = 1 - (p - luck)/ 100000\n",
        "                y = ((100000 - p + luck)/ 100000)\n",
        "                print(\"x no artifact\", x, y, p, luck)\n",
        "            if x < 0:\n",
        "                prob = 0\n",
        "                likelihoods[key][luck] = (prob, np.nan)\n",
        "                if verbose:\n",
        "                    print(luck, p, x, prob)\n",
        "                return \n",
        "            prob = prob * (x)\n",
        "        nodePerResource = (1 / prob)\n",
        "        numResourcesNeeded = nodePerResource * resourceNeeded / np.mean([rollTarget[1], rollTarget[2]])\n",
        "        if verbose:\n",
        "            print(\"Each {} has a {:.1f}% chance of producing legendary {}\".format(rollTarget[3], prob * 100, key))\n",
        "            print(\"On average, you will need to gather {:.2f} {} to obtain {} legendary {}.\".format(numResourcesNeeded, rollTarget[3], resourceNeeded, key))\n",
        "            # print(\"prob:\" + str(prob) + \" \" +\" average \"+ rollTarget[3] + \" needed to gather \", numResourcesNeeded, \" to gather \" + str(resources[key]) + \" legendary \" + key)\n",
        "        likelihoods[key][luck] = (prob, numResourcesNeeded)\n",
        "        print(\"\\n\")\n",
        "\n",
        "likelihoods = {}\n",
        "print(\"With a fresh 60 Luck Setup of {} luck\".format(freshLuck))\n",
        "computeNumberResources(freshLuck, rapierResources, likelihoods)\n",
        "# computeNumberResources(freshLuck, voidOreResources, likelihoods)\n",
        "# computeNumberResources(freshLuck, faeIronResources, likelihoods)\n",
        "\n",
        "print(\"\\nPerfect Gear Luck Setup of {} luck\".format(perfectLuck))\n",
        "computeNumberResources(perfectLuck, rapierResources, likelihoods)\n",
        "# computeNumberResources(perfectLuck, voidOreResources, likelihoods)\n",
        "# computeNumberResources(perfectLuck, faeIronResources, likelihoods)\n",
        "\n",
        "print(\"\\nReiker Gear Luck Setup of {} luck\".format(reikerLuck))\n",
        "computeNumberResources(reikerLuck, rapierResources, likelihoods)\n",
        "# computeNumberResources(reikerLuck, voidOreResources, likelihoods)\n",
        "# computeNumberResources(reikerLuck, faeIronResources, likelihoods)\n",
        "\n"
      ],
      "execution_count": null,
      "outputs": [
        {
          "output_type": "stream",
          "name": "stdout",
          "text": [
            "12885 8550\n",
            "With a fresh 60 Luck Setup of 8550 luck\n",
            "Orichalcum veins have a luck target of 101800 to produce ore.\n",
            "x no artifact 0.0675 0.03375 101800 8550\n",
            "Each Orichalcum veins has a 6.8% chance of producing legendary ore\n",
            "On average, you will need to gather 86.20 Orichalcum veins to obtain 32 legendary ore.\n",
            "\n",
            "\n",
            "Ironwood trees have a luck target of 101800 to produce wood.\n",
            "x no artifact 0.0675 0.03375 101800 8550\n",
            "Each Ironwood trees has a 6.8% chance of producing legendary wood\n",
            "On average, you will need to gather 24.24 Ironwood trees to obtain 9 legendary wood.\n",
            "\n",
            "\n",
            "Level 60 animals have a luck target of 101500 to produce leather.\n",
            "x no artifact 0.07050000000000001 0.03525 101500 8550\n",
            "Each Level 60 animals has a 7.1% chance of producing legendary leather\n",
            "On average, you will need to gather 46.42 Level 60 animals to obtain 18 legendary leather.\n",
            "\n",
            "\n",
            "Named Elite Monsters have a luck target of 94500 to produce artifacts.\n",
            "Each Named Elite Monsters has a 5.5% chance of producing legendary artifacts\n",
            "On average, you will need to gather 18.18 Named Elite Monsters to obtain 1 legendary artifacts.\n",
            "\n",
            "\n",
            "\n",
            "Perfect Gear Luck Setup of 12885 luck\n",
            "Orichalcum veins have a luck target of 101800 to produce ore.\n",
            "x no artifact 0.11085 0.055425 101800 12885\n",
            "Each Orichalcum veins has a 11.1% chance of producing legendary ore\n",
            "On average, you will need to gather 52.49 Orichalcum veins to obtain 32 legendary ore.\n",
            "\n",
            "\n",
            "Ironwood trees have a luck target of 101800 to produce wood.\n",
            "x no artifact 0.11085 0.055425 101800 12885\n",
            "Each Ironwood trees has a 11.1% chance of producing legendary wood\n",
            "On average, you will need to gather 14.76 Ironwood trees to obtain 9 legendary wood.\n",
            "\n",
            "\n",
            "Level 60 animals have a luck target of 101500 to produce leather.\n",
            "x no artifact 0.11385 0.056925 101500 12885\n",
            "Each Level 60 animals has a 11.4% chance of producing legendary leather\n",
            "On average, you will need to gather 28.75 Level 60 animals to obtain 18 legendary leather.\n",
            "\n",
            "\n",
            "Named Elite Monsters have a luck target of 94500 to produce artifacts.\n",
            "Each Named Elite Monsters has a 5.5% chance of producing legendary artifacts\n",
            "On average, you will need to gather 18.18 Named Elite Monsters to obtain 1 legendary artifacts.\n",
            "\n",
            "\n",
            "\n",
            "Reiker Gear Luck Setup of 5400 luck\n",
            "Orichalcum veins have a luck target of 101800 to produce ore.\n",
            "x no artifact 0.03600000000000003 0.018 101800 5400\n",
            "Each Orichalcum veins has a 3.6% chance of producing legendary ore\n",
            "On average, you will need to gather 161.62 Orichalcum veins to obtain 32 legendary ore.\n",
            "\n",
            "\n",
            "Ironwood trees have a luck target of 101800 to produce wood.\n",
            "x no artifact 0.03600000000000003 0.018 101800 5400\n",
            "Each Ironwood trees has a 3.6% chance of producing legendary wood\n",
            "On average, you will need to gather 45.45 Ironwood trees to obtain 9 legendary wood.\n",
            "\n",
            "\n",
            "Level 60 animals have a luck target of 101500 to produce leather.\n",
            "x no artifact 0.039000000000000035 0.0195 101500 5400\n",
            "Each Level 60 animals has a 3.9% chance of producing legendary leather\n",
            "On average, you will need to gather 83.92 Level 60 animals to obtain 18 legendary leather.\n",
            "\n",
            "\n",
            "Named Elite Monsters have a luck target of 94500 to produce artifacts.\n",
            "Each Named Elite Monsters has a 5.5% chance of producing legendary artifacts\n",
            "On average, you will need to gather 18.18 Named Elite Monsters to obtain 1 legendary artifacts.\n",
            "\n",
            "\n"
          ]
        }
      ]
    },
    {
      "cell_type": "markdown",
      "metadata": {
        "id": "GWQtpD2YVsUU"
      },
      "source": [
        "## References"
      ]
    },
    {
      "cell_type": "markdown",
      "metadata": {
        "id": "EENG_hb13IpU"
      },
      "source": [
        "\n",
        "\n",
        "### Reference 1 - % Luck to Luck Points Conversion and Equivalence.\n",
        "#### Localization string for mining luck perk\n",
        "\n",
        "This string shows that the % that gets displayed is simply a function of the base ROLMining on the Perk, \\* 0.01 (to convert it to a %), * the perkMultiplier (which I assume is derived from the ```ScalingPerGearScore``` on the item.)\n",
        "```\n",
        "\t<string key=\"PerkID_Tools_MiningLuck_Description\">While Mining gain {[StatusEffects.Status_Perk_Tool_MiningLuck.ROLMining * 0.01 * {perkMultiplier}]}% chance at finding rare items.</string>\n",
        "```\n",
        "\n",
        "#### Luck Points\n",
        "We can see that the ROLMining for Tools/Armor/Amulets are all in Luck Points, and in the hundreds range. Which makes sense in the above formula, since 200 would translate to ~2%, + whatever it is for Gearscore. So for a GS 200 tool, the string would display   200 \\* 0.01 \\* 0.007273 * 200 = 2.9%.\n",
        "\n",
        "Now, nwdb.info shows for this perk that it only takes 160 GS to achieve a 2.9% increase, but that's certainly in the ballpark for this and probably something to do with how perkModifier is computed. But it's not off by an order of magnitude like it would have to be if it were multiplied by 1000.\n",
        "\n",
        "We can also verify that, by comparison, FoodMinerT1 Tier 1, which displays as 1,000 luck points in game, also has ROLMining equal to 1000.\n",
        "\n",
        "#### What if 1,000 Luck points translated to 1%?\n",
        "\n",
        "If 1,000 Luck points were 1% (or if the percent were applied directly to a roll of 100,000), then tools or armor with 5% increased chance would have 5,000 luck points on them. If we compare that to trophies or food, which come with 4500 or 2000 at best, respectively, it would mean a full set of Armor + tool + amulet would come to roughly 25000 + 9300 + 9550 = 43850 luck, which would dwarf any contribution from food and trophies by an order of magnitude.\n",
        "\n",
        "### Gathering Related Perk Tables\n",
        "\n",
        "#### Perks with ROLMining > 0\n",
        "```\n",
        "miningEffects[miningEffects['ROLMining'] > 0]\n",
        "\n",
        "\tDisplayName\tGlobalRollMod\tROLMining\tMULTMining\tEFFMining\tINSMining\n",
        "StatusID\t\t\t\t\t\t\n",
        "FoodMinerT1\t@FoodMinerT1_MasterName\t0.0\t1000\t0.0\t0.0\t0.0\n",
        "FoodMinerT2\t@FoodMinerT2_MasterName\t0.0\t1400\t0.0\t0.0\t0.0\n",
        "FoodMinerT3\t@FoodMinerT3_MasterName\t0.0\t1700\t0.0\t0.0\t0.0\n",
        "FoodMinerT4\t@FoodMinerT4_MasterName\t0.0\t1900\t0.0\t0.0\t0.0\n",
        "FoodMinerT5\t@FoodMinerT5_MasterName\t0.0\t2000\t0.0\t0.0\t0.0\n",
        "MinerMastery1\tNaN\t0.0\t200\t0.0\t0.0\t0.0\n",
        "MinerMastery2\tNaN\t0.0\t350\t0.0\t0.0\t0.0\n",
        "MinerMastery3\tNaN\t0.0\t500\t0.0\t0.0\t0.0\n",
        "HousingRollBonusMiningT1\tNaN\t0.0\t500\t0.0\t0.0\t0.0\n",
        "HousingRollBonusMiningT2\tNaN\t0.0\t1000\t0.0\t0.0\t0.0\n",
        "HousingRollBonusMiningT3\tNaN\t0.0\t1500\t0.0\t0.0\t0.0\n",
        "MinersResolveLSB\t@lifestyle_button_MinersResolveProjectId\t0.0\t500\t0.2\t0.0\t0.0\n",
        "Status_Perk_Tool_MiningLuck\tNaN\t0.0\t200\t0.0\t0.0\t0.0\n",
        "Status_Perk_Armor_MiningLuck\tNaN\t0.0\t200\t0.0\t0.0\t0.0\n",
        "Status_Perk_Amulet_MiningLuck\tNaN\t0.0\t500\t0.0\t0.0\t0.0\n",
        "```"
      ]
    },
    {
      "cell_type": "markdown",
      "metadata": {
        "id": "Zfbd0VqaR7A8"
      },
      "source": [
        "# Appendices"
      ]
    },
    {
      "cell_type": "markdown",
      "metadata": {
        "id": "pfxiIqKRhsUt"
      },
      "source": [
        "## Linear vs Quadratic Luck Point Scaling\n",
        "When an item has to pass multiple luck checks to drop (i.e. go through multiple loot tables with a chance of failure), luck becomes increasingly valuable. This is because the more luck you have not only increase your chance of passing the first table, but all the tables along the way so you get an effective (Luck * Tables) scaling factor.\n",
        "\n",
        "In the below example, voidmetal is found only on a second table success of over 101450 in addition to the first table drop of 101000, so the quadratic scaling theory applies to it, as seen in the graphs."
      ]
    },
    {
      "cell_type": "code",
      "metadata": {
        "colab": {
          "base_uri": "https://localhost:8080/",
          "height": 559
        },
        "id": "bngl6DWzMtP4",
        "outputId": "44451d69-b2dd-4234-f6ea-46da23f75611"
      },
      "source": [
        "\n",
        "llvoid = {\n",
        "}\n",
        "for l in range(1, 20000, 100):\n",
        "    computeNumberResources(l, voidmetalResources, llvoid, verbose=False)\n",
        "\n",
        "llfae = {\n",
        "}\n",
        "for l in range(1, 20000, 100):\n",
        "    computeNumberResources(l, faeIronResources, llfae, verbose=False)\n",
        "\n",
        "voidProb = np.array([(luck, prob[0])for luck, prob in llvoid['voidmetal'].items()])\n",
        "voidRes = np.array([(luck, prob[1])for luck, prob in llvoid['voidmetal'].items()])\n",
        "\n",
        "faeProb = np.array([(luck, prob[0])for luck, prob in llfae['faeiron'].items()])\n",
        "faeRes = np.array([(luck, prob[1])for luck, prob in llfae['faeiron'].items()])\n",
        "\n",
        "def plot(probs, resources, labels):\n",
        "    for i, prob in enumerate(probs):\n",
        "        plt.plot(prob[:,0], prob[:,1])\n",
        "        plt.yscale('log')\n",
        "        plt.xlabel(\"Luck Points\")\n",
        "        plt.ylabel(\"Probability of hitting: \" + labels[i])\n",
        "    plt.show()\n",
        "    for i, res in enumerate(resources):\n",
        "        # start = 20\n",
        "        plt.plot(res[:,0], res[:,1])\n",
        "        plt.yscale('log')\n",
        "        plt.xlabel(\"Luck Points\")\n",
        "        plt.ylabel(\"Number of Resources to Gather to get 1 \" + labels[i])\n",
        "    plt.show()\n",
        "plot([faeProb, voidProb], [faeRes, voidRes], [\"Fae Iron\", \"Voidmetal\"])"
      ],
      "execution_count": null,
      "outputs": [
        {
          "output_type": "display_data",
          "data": {
            "image/png": "[encoded data removed]",
            "text/plain": [
              "<Figure size 432x288 with 1 Axes>"
            ]
          },
          "metadata": {
            "needs_background": "light"
          }
        },
        {
          "output_type": "display_data",
          "data": {
            "image/png": "[encoded data removed]",
            "text/plain": [
              "<Figure size 432x288 with 1 Axes>"
            ]
          },
          "metadata": {
            "needs_background": "light"
          }
        }
      ]
    },
    {
      "cell_type": "markdown",
      "metadata": {
        "id": "lTNFpnIqR9yo"
      },
      "source": [
        "\n",
        "### ROLMining - Rare Item Chance / Luck Points\n",
        "```\n",
        "miningEffects[miningEffects['ROLMining'] > 0]\n",
        "\n",
        "\tDisplayName\tGlobalRollMod\tROLMining\tMULTMining\tEFFMining\tINSMining\n",
        "StatusID\t\t\t\t\t\t\n",
        "FoodMinerT1\t@FoodMinerT1_MasterName\t0.0\t1000\t0.0\t0.0\t0.0\n",
        "FoodMinerT2\t@FoodMinerT2_MasterName\t0.0\t1400\t0.0\t0.0\t0.0\n",
        "FoodMinerT3\t@FoodMinerT3_MasterName\t0.0\t1700\t0.0\t0.0\t0.0\n",
        "FoodMinerT4\t@FoodMinerT4_MasterName\t0.0\t1900\t0.0\t0.0\t0.0\n",
        "FoodMinerT5\t@FoodMinerT5_MasterName\t0.0\t2000\t0.0\t0.0\t0.0\n",
        "MinerMastery1\tNaN\t0.0\t200\t0.0\t0.0\t0.0\n",
        "MinerMastery2\tNaN\t0.0\t350\t0.0\t0.0\t0.0\n",
        "MinerMastery3\tNaN\t0.0\t500\t0.0\t0.0\t0.0\n",
        "HousingRollBonusMiningT1\tNaN\t0.0\t500\t0.0\t0.0\t0.0\n",
        "HousingRollBonusMiningT2\tNaN\t0.0\t1000\t0.0\t0.0\t0.0\n",
        "HousingRollBonusMiningT3\tNaN\t0.0\t1500\t0.0\t0.0\t0.0\n",
        "MinersResolveLSB\t@lifestyle_button_MinersResolveProjectId\t0.0\t500\t0.2\t0.0\t0.0\n",
        "Status_Perk_Tool_MiningLuck\tNaN\t0.0\t200\t0.0\t0.0\t0.0\n",
        "Status_Perk_Armor_MiningLuck\tNaN\t0.0\t200\t0.0\t0.0\t0.0\n",
        "Status_Perk_Amulet_MiningLuck\tNaN\t0.0\t500\t0.0\t0.0\t0.0\n",
        "```\n",
        "\n",
        "### GlobalRollMod - Global Luck mods for creature and chest loot tables (possibly gathering?)\n",
        "```\n",
        "miningEffects[miningEffects['GlobalRollMod'] > 0]\n",
        "\n",
        "DisplayName\tGlobalRollMod\tROLMining\tMULTMining\tEFFMining\tINSMining\n",
        "StatusID\t\t\t\t\t\t\n",
        "HousingRollBonusGlobalT1\tNaN\t50.000\t0\t0.0\t0.0\t0.0\n",
        "HousingRollBonusGlobalT2\tNaN\t100.000\t0\t0.0\t0.0\t0.0\n",
        "HousingRollBonusGlobalT3\tNaN\t150.000\t0\t0.0\t0.0\t0.0\n",
        "IncreaseLuckFB\tNaN\t0.025\t0\t0.0\t0.0\t0.0\n",
        "Lucky1\tNaN\t200.000\t0\t0.0\t0.0\t0.0\n",
        "Lucky2\tNaN\t350.000\t0\t0.0\t0.0\t0.0\n",
        "Lucky3\tNaN\t500.000\t0\t0.0\t0.0\t0.0\n",
        "Status_Perk_Lucky\tNaN\t50.000\t0\t0.0\t0.0\t0.0\n",
        "Status_Perk_Gem_Lucky1\tNaN\t25.000\t0\t0.0\t0.0\t0.0\n",
        "Status_Perk_Gem_Lucky2\tNaN\t35.000\t0\t0.0\t0.0\t0.0\n",
        "Status_Perk_Gem_Lucky3\tNaN\t45.000\t0\t0.0\t0.0\t0.0\n",
        "Status_Perk_Gem_Lucky4\tNaN\t50.000\t0\t0.0\t\n",
        "```\n",
        "\n",
        "\n",
        "### MULTMining - Yield\n",
        "```\n",
        "\n",
        "miningEffects[miningEffects['MULTMining'] > 0]\n",
        "\n",
        "\n",
        "DisplayName\tGlobalRollMod\tROLMining\tMULTMining\tEFFMining\tINSMining\n",
        "StatusID\t\t\t\t\t\t\n",
        "MiningMastery1\tNaN\t0.0\t0\t0.15\t0.0\t0.0\n",
        "MiningMastery2\tNaN\t0.0\t0\t0.20\t0.0\t0.0\n",
        "MiningMastery3\tNaN\t0.0\t0\t0.30\t0.0\t0.0\n",
        "MinersResolveLSB\t@lifestyle_button_MinersResolveProjectId\t0.0\t500\t0.20\t0.0\t0.0\n",
        "IncreaseGatheringFB\tNaN\t0.0\t0\t0.05\t0.0\t0.0\n",
        "ProficiencyBoosterT2\t@ProficiencyBoosterT2_MasterName\t0.0\t0\t0.05\t0.0\t0.0\n",
        "ProficiencyBoosterT3\t@ProficiencyBoosterT3_MasterName\t0.0\t0\t0.07\t0.0\t0.0\n",
        "ProficiencyBoosterT4\t@ProficiencyBoosterT4_MasterName\t0.0\t0\t0.10\t0.0\t0.0\n",
        "ProficiencyBoosterT5\t@ProficiencyBoosterT5_MasterName\t0.0\t0\t0.15\t0.0\t0.0\n",
        "Status_Perk_Tool_MiningYield\tNaN\t0.0\t0\t0.10\t0.0\t0.0\n",
        "ATB_Str_Bonus_250_2_Effect\tNaN\t0.0\t0\t0.10\t\n",
        "```\n",
        "\n",
        "### EFFMining - Speed of mining\n",
        "```\n",
        "miningEffects[miningEffects['EFFMining'] > 0]\n",
        "\n",
        "DisplayName\tGlobalRollMod\tROLMining\tMULTMining\tEFFMining\tINSMining\n",
        "StatusID\t\t\t\t\t\t\n",
        "ATB_Str_Bonus_50_2_Effect\tNaN\t0.0\t0\t0.0\t0.1\t0.0\n",
        "ATB_Str_Bonus_200_2_Effect\tNaN\t0.0\t0\t0.0\t0.1\t0.0\n",
        "```\n",
        "\n",
        "### Chance for instantaneous mine\n",
        "```\n",
        "miningEffects[miningEffects['INSMining'] > 0]\n",
        "\n",
        "DisplayName\tGlobalRollMod\tROLMining\tMULTMining\tEFFMining\tINSMining\n",
        "StatusID\t\t\t\t\t\t\n",
        "ATB_Str_Bonus_300_2_Effect\tNaN\t0.0\t0\t0.0\t0.0\t0.25\n",
        "```"
      ]
    },
    {
      "cell_type": "markdown",
      "metadata": {
        "id": "h7KXNrOQSAf7"
      },
      "source": [
        "## ItemDef Weapons Gathering Efficiency of items\n",
        "```\n",
        "\n",
        "itemDefWeaponsFile = 'javelindata_itemdefinitions_weapons.csv'\n",
        "itemDefWeapons = pd.read_csv(\"data/\" + itemDefWeaponsFile, delimiter=';')\n",
        "\n",
        "gatheringCols = ['WeaponID',\n",
        "'GatheringTypes',\n",
        "'GatheringMultiplier',\n",
        "'GatheringEfficiency',\n",
        "'MinGatherEFF',\n",
        "'MaxGatherEFF']\n",
        "itemDefWeapons[0:28][gatheringCols]\n",
        "\n",
        "WeaponID\tGatheringTypes\tGatheringMultiplier\tGatheringEfficiency\tMinGatherEFF\tMaxGatherEFF\n",
        "0\tUnarmed\tNone\t1.0\t0.00\t0.00\t0.00\n",
        "1\tLoggingAxe_FTUE\tChopping\t1.0\t1.35\t1.00\t1.40\n",
        "2\t1hSkinningKnifeT1\tDressing\t1.0\t1.35\t1.00\t1.00\n",
        "3\t1hSkinningKnifeT2\tDressing\t1.0\t2.00\t1.25\t2.25\n",
        "4\t1hSkinningKnifeT3\tDressing\t1.0\t3.00\t2.50\t3.50\n",
        "5\t1hSkinningKnifeT4\tDressing\t1.0\t5.00\t4.00\t5.50\n",
        "6\t1hSkinningKnifeT5\tDressing\t1.0\t8.00\t6.25\t8.50\n",
        "7\t1hSickleT1\tCutting\t1.0\t1.35\t1.00\t1.00\n",
        "8\t1hSickleT2\tCutting\t1.0\t2.00\t1.25\t2.25\n",
        "9\t1hSickleT3\tCutting\t1.0\t3.00\t2.50\t3.50\n",
        "10\t1hSickleT4\tCutting\t1.0\t5.00\t4.00\t5.50\n",
        "11\t1hSickleT5\tCutting\t1.0\t8.00\t6.25\t8.50\n",
        "12\tLoggingAxeT1\tChopping\t1.0\t1.35\t1.00\t1.00\n",
        "13\tLoggingAxeT2\tChopping\t1.0\t2.00\t1.25\t2.25\n",
        "14\tLoggingAxeT3\tChopping\t1.0\t3.00\t2.50\t3.50\n",
        "15\tLoggingAxeT4\tChopping\t1.0\t5.00\t4.00\t5.50\n",
        "16\tLoggingAxeT5\tChopping\t1.0\t8.00\t6.25\t8.50\n",
        "17\t1hPickT1\tMining\t1.0\t1.35\t1.00\t1.00\n",
        "18\t2hPickT1\tMining\t1.0\t1.35\t1.00\t1.00\n",
        "19\t2hPickT2\tMining\t1.0\t2.00\t1.25\t2.25\n",
        "20\t2hPickT3\tMining\t1.0\t3.00\t2.50\t3.50\n",
        "21\t2hPickT4\tMining\t1.0\t5.00\t4.00\t5.50\n",
        "22\t2hPickT5\tMining\t1.0\t8.00\t6.25\t8.50\n",
        "23\t2hFishingPoleT1\tFishing\t1.0\t1.00\t0.00\t0.00\n",
        "24\t2hFishingPoleT2\tFishing\t2.0\t1.50\t0.00\t0.00\n",
        "25\t2hFishingPoleT3\tFishing\t3.0\t2.00\t0.00\t0.00\n",
        "26\t2hFishingPoleT4\tFishing\t3.0\t2.00\t0.00\t0.00\n",
        "27\t2hFishingPoleT5\tFishing\t3.0\t2.00\t0.00\t0.00\n",
        "```"
      ]
    }
  ]
}